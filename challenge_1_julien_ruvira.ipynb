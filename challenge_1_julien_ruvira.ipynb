{
 "cells": [
  {
   "cell_type": "markdown",
   "metadata": {},
   "source": [
    "Topic:        Challenge Set 1\n",
    "\n",
    "Subject:      Explore MTA turnstile data\n",
    "\n",
    "Date:         09/30/2019\n",
    "\n",
    "Name:         Julien Ruvira\n",
    "\n",
    "Worked with:  Alen, Carissa"
   ]
  },
  {
   "cell_type": "markdown",
   "metadata": {},
   "source": [
    "## #1"
   ]
  },
  {
   "cell_type": "code",
   "execution_count": 1,
   "metadata": {},
   "outputs": [],
   "source": [
    "import pandas as pd\n",
    "import numpy as np\n",
    "import matplotlib.pyplot as plt\n",
    "from datetime import datetime\n",
    "import pickle\n",
    "import seaborn as sns\n",
    "\n",
    "%matplotlib inline"
   ]
  },
  {
   "cell_type": "code",
   "execution_count": 2,
   "metadata": {},
   "outputs": [],
   "source": [
    "# def get_data(week_nums):\n",
    "#     url = \"http://web.mta.info/developers/data/nyct/turnstile/turnstile_{}.txt\"\n",
    "#     dfs = []\n",
    "#     col_names= ['CA','UNIT','SCP','STATION','LINENAME','DIVISION','DATE','TIME','DESC','ENTRIES','EXITS']\n",
    "#     for week_num in week_nums:\n",
    "#         file_url = url.format(week_num)\n",
    "#         dfs.append(pd.read_csv(file_url, sep=\",\", header=0, names = col_names, parse_dates=[['DATE', 'TIME']]))\n",
    "#     return pd.concat(dfs)\n",
    "        \n",
    "# week_nums = [190504, 190511, 190518, 190525]\n",
    "# df = get_data(week_nums)"
   ]
  },
  {
   "cell_type": "code",
   "execution_count": 3,
   "metadata": {},
   "outputs": [],
   "source": [
    "# with open('challenge_1_julien_ruvira.pickle', 'wb') as to_write:\n",
    "#     pickle.dump(df, to_write)"
   ]
  },
  {
   "cell_type": "code",
   "execution_count": 4,
   "metadata": {},
   "outputs": [],
   "source": [
    "with open('challenge_1_julien_ruvira.pickle','rb') as read_file:\n",
    "    df = pickle.load(read_file)"
   ]
  },
  {
   "cell_type": "markdown",
   "metadata": {},
   "source": [
    "## #2 Get datetime"
   ]
  },
  {
   "cell_type": "code",
   "execution_count": 5,
   "metadata": {},
   "outputs": [
    {
     "data": {
      "text/html": [
       "<div>\n",
       "<style scoped>\n",
       "    .dataframe tbody tr th:only-of-type {\n",
       "        vertical-align: middle;\n",
       "    }\n",
       "\n",
       "    .dataframe tbody tr th {\n",
       "        vertical-align: top;\n",
       "    }\n",
       "\n",
       "    .dataframe thead th {\n",
       "        text-align: right;\n",
       "    }\n",
       "</style>\n",
       "<table border=\"1\" class=\"dataframe\">\n",
       "  <thead>\n",
       "    <tr style=\"text-align: right;\">\n",
       "      <th></th>\n",
       "      <th>DATE_TIME</th>\n",
       "      <th>CA</th>\n",
       "      <th>UNIT</th>\n",
       "      <th>SCP</th>\n",
       "      <th>STATION</th>\n",
       "      <th>LINENAME</th>\n",
       "      <th>DIVISION</th>\n",
       "      <th>DESC</th>\n",
       "      <th>ENTRIES</th>\n",
       "      <th>EXITS</th>\n",
       "    </tr>\n",
       "  </thead>\n",
       "  <tbody>\n",
       "    <tr>\n",
       "      <th>0</th>\n",
       "      <td>2019-04-27 00:00:00</td>\n",
       "      <td>A002</td>\n",
       "      <td>R051</td>\n",
       "      <td>02-00-00</td>\n",
       "      <td>59 ST</td>\n",
       "      <td>NQR456W</td>\n",
       "      <td>BMT</td>\n",
       "      <td>REGULAR</td>\n",
       "      <td>7035249</td>\n",
       "      <td>2384833</td>\n",
       "    </tr>\n",
       "    <tr>\n",
       "      <th>1</th>\n",
       "      <td>2019-04-27 04:00:00</td>\n",
       "      <td>A002</td>\n",
       "      <td>R051</td>\n",
       "      <td>02-00-00</td>\n",
       "      <td>59 ST</td>\n",
       "      <td>NQR456W</td>\n",
       "      <td>BMT</td>\n",
       "      <td>REGULAR</td>\n",
       "      <td>7035269</td>\n",
       "      <td>2384840</td>\n",
       "    </tr>\n",
       "    <tr>\n",
       "      <th>2</th>\n",
       "      <td>2019-04-27 08:00:00</td>\n",
       "      <td>A002</td>\n",
       "      <td>R051</td>\n",
       "      <td>02-00-00</td>\n",
       "      <td>59 ST</td>\n",
       "      <td>NQR456W</td>\n",
       "      <td>BMT</td>\n",
       "      <td>REGULAR</td>\n",
       "      <td>7035292</td>\n",
       "      <td>2384875</td>\n",
       "    </tr>\n",
       "    <tr>\n",
       "      <th>3</th>\n",
       "      <td>2019-04-27 12:00:00</td>\n",
       "      <td>A002</td>\n",
       "      <td>R051</td>\n",
       "      <td>02-00-00</td>\n",
       "      <td>59 ST</td>\n",
       "      <td>NQR456W</td>\n",
       "      <td>BMT</td>\n",
       "      <td>REGULAR</td>\n",
       "      <td>7035392</td>\n",
       "      <td>2384951</td>\n",
       "    </tr>\n",
       "    <tr>\n",
       "      <th>4</th>\n",
       "      <td>2019-04-27 16:00:00</td>\n",
       "      <td>A002</td>\n",
       "      <td>R051</td>\n",
       "      <td>02-00-00</td>\n",
       "      <td>59 ST</td>\n",
       "      <td>NQR456W</td>\n",
       "      <td>BMT</td>\n",
       "      <td>REGULAR</td>\n",
       "      <td>7035651</td>\n",
       "      <td>2385020</td>\n",
       "    </tr>\n",
       "  </tbody>\n",
       "</table>\n",
       "</div>"
      ],
      "text/plain": [
       "            DATE_TIME    CA  UNIT       SCP STATION LINENAME DIVISION  \\\n",
       "0 2019-04-27 00:00:00  A002  R051  02-00-00   59 ST  NQR456W      BMT   \n",
       "1 2019-04-27 04:00:00  A002  R051  02-00-00   59 ST  NQR456W      BMT   \n",
       "2 2019-04-27 08:00:00  A002  R051  02-00-00   59 ST  NQR456W      BMT   \n",
       "3 2019-04-27 12:00:00  A002  R051  02-00-00   59 ST  NQR456W      BMT   \n",
       "4 2019-04-27 16:00:00  A002  R051  02-00-00   59 ST  NQR456W      BMT   \n",
       "\n",
       "      DESC  ENTRIES    EXITS  \n",
       "0  REGULAR  7035249  2384833  \n",
       "1  REGULAR  7035269  2384840  \n",
       "2  REGULAR  7035292  2384875  \n",
       "3  REGULAR  7035392  2384951  \n",
       "4  REGULAR  7035651  2385020  "
      ]
     },
     "execution_count": 5,
     "metadata": {},
     "output_type": "execute_result"
    }
   ],
   "source": [
    "df.head()"
   ]
  },
  {
   "cell_type": "markdown",
   "metadata": {},
   "source": [
    "## #3 Get counts per day"
   ]
  },
  {
   "cell_type": "code",
   "execution_count": 6,
   "metadata": {},
   "outputs": [],
   "source": [
    "df = df[df.DESC == 'REGULAR'] # get only regular occurances"
   ]
  },
  {
   "cell_type": "code",
   "execution_count": 7,
   "metadata": {},
   "outputs": [],
   "source": [
    "HOURLY_ENTRIES = df.ENTRIES - df.ENTRIES.shift(1)\n",
    "df['HOURLY_ENTRIES'] = HOURLY_ENTRIES.fillna(0)\n",
    "\n",
    "HOURLY_EXITS = df.EXITS - df.EXITS.shift(1)\n",
    "df['HOURLY_EXITS'] = HOURLY_ENTRIES.fillna(0)"
   ]
  },
  {
   "cell_type": "code",
   "execution_count": 8,
   "metadata": {},
   "outputs": [
    {
     "data": {
      "text/html": [
       "<div>\n",
       "<style scoped>\n",
       "    .dataframe tbody tr th:only-of-type {\n",
       "        vertical-align: middle;\n",
       "    }\n",
       "\n",
       "    .dataframe tbody tr th {\n",
       "        vertical-align: top;\n",
       "    }\n",
       "\n",
       "    .dataframe thead th {\n",
       "        text-align: right;\n",
       "    }\n",
       "</style>\n",
       "<table border=\"1\" class=\"dataframe\">\n",
       "  <thead>\n",
       "    <tr style=\"text-align: right;\">\n",
       "      <th></th>\n",
       "      <th>ENTRIES</th>\n",
       "      <th>EXITS</th>\n",
       "      <th>HOURLY_ENTRIES</th>\n",
       "      <th>HOURLY_EXITS</th>\n",
       "    </tr>\n",
       "  </thead>\n",
       "  <tbody>\n",
       "    <tr>\n",
       "      <th>count</th>\n",
       "      <td>8.193980e+05</td>\n",
       "      <td>8.193980e+05</td>\n",
       "      <td>8.193980e+05</td>\n",
       "      <td>8.193980e+05</td>\n",
       "    </tr>\n",
       "    <tr>\n",
       "      <th>mean</th>\n",
       "      <td>4.133787e+07</td>\n",
       "      <td>3.389842e+07</td>\n",
       "      <td>-8.579097e+00</td>\n",
       "      <td>-8.579097e+00</td>\n",
       "    </tr>\n",
       "    <tr>\n",
       "      <th>std</th>\n",
       "      <td>2.107976e+08</td>\n",
       "      <td>1.945038e+08</td>\n",
       "      <td>4.468576e+07</td>\n",
       "      <td>4.468576e+07</td>\n",
       "    </tr>\n",
       "    <tr>\n",
       "      <th>min</th>\n",
       "      <td>0.000000e+00</td>\n",
       "      <td>0.000000e+00</td>\n",
       "      <td>-2.116019e+09</td>\n",
       "      <td>-2.116019e+09</td>\n",
       "    </tr>\n",
       "    <tr>\n",
       "      <th>25%</th>\n",
       "      <td>3.556842e+05</td>\n",
       "      <td>1.453970e+05</td>\n",
       "      <td>8.000000e+00</td>\n",
       "      <td>8.000000e+00</td>\n",
       "    </tr>\n",
       "    <tr>\n",
       "      <th>50%</th>\n",
       "      <td>2.177859e+06</td>\n",
       "      <td>1.249600e+06</td>\n",
       "      <td>7.200000e+01</td>\n",
       "      <td>7.200000e+01</td>\n",
       "    </tr>\n",
       "    <tr>\n",
       "      <th>75%</th>\n",
       "      <td>6.796476e+06</td>\n",
       "      <td>4.607690e+06</td>\n",
       "      <td>2.470000e+02</td>\n",
       "      <td>2.470000e+02</td>\n",
       "    </tr>\n",
       "    <tr>\n",
       "      <th>max</th>\n",
       "      <td>2.129343e+09</td>\n",
       "      <td>2.124127e+09</td>\n",
       "      <td>2.121120e+09</td>\n",
       "      <td>2.121120e+09</td>\n",
       "    </tr>\n",
       "  </tbody>\n",
       "</table>\n",
       "</div>"
      ],
      "text/plain": [
       "            ENTRIES         EXITS  HOURLY_ENTRIES  HOURLY_EXITS\n",
       "count  8.193980e+05  8.193980e+05    8.193980e+05  8.193980e+05\n",
       "mean   4.133787e+07  3.389842e+07   -8.579097e+00 -8.579097e+00\n",
       "std    2.107976e+08  1.945038e+08    4.468576e+07  4.468576e+07\n",
       "min    0.000000e+00  0.000000e+00   -2.116019e+09 -2.116019e+09\n",
       "25%    3.556842e+05  1.453970e+05    8.000000e+00  8.000000e+00\n",
       "50%    2.177859e+06  1.249600e+06    7.200000e+01  7.200000e+01\n",
       "75%    6.796476e+06  4.607690e+06    2.470000e+02  2.470000e+02\n",
       "max    2.129343e+09  2.124127e+09    2.121120e+09  2.121120e+09"
      ]
     },
     "execution_count": 8,
     "metadata": {},
     "output_type": "execute_result"
    }
   ],
   "source": [
    "df.describe()"
   ]
  },
  {
   "cell_type": "code",
   "execution_count": 9,
   "metadata": {},
   "outputs": [
    {
     "data": {
      "text/html": [
       "<div>\n",
       "<style scoped>\n",
       "    .dataframe tbody tr th:only-of-type {\n",
       "        vertical-align: middle;\n",
       "    }\n",
       "\n",
       "    .dataframe tbody tr th {\n",
       "        vertical-align: top;\n",
       "    }\n",
       "\n",
       "    .dataframe thead th {\n",
       "        text-align: right;\n",
       "    }\n",
       "</style>\n",
       "<table border=\"1\" class=\"dataframe\">\n",
       "  <thead>\n",
       "    <tr style=\"text-align: right;\">\n",
       "      <th></th>\n",
       "      <th>DATE_TIME</th>\n",
       "      <th>CA</th>\n",
       "      <th>UNIT</th>\n",
       "      <th>SCP</th>\n",
       "      <th>STATION</th>\n",
       "      <th>LINENAME</th>\n",
       "      <th>DIVISION</th>\n",
       "      <th>DESC</th>\n",
       "      <th>ENTRIES</th>\n",
       "      <th>EXITS</th>\n",
       "      <th>HOURLY_ENTRIES</th>\n",
       "      <th>HOURLY_EXITS</th>\n",
       "    </tr>\n",
       "  </thead>\n",
       "  <tbody>\n",
       "    <tr>\n",
       "      <th>0</th>\n",
       "      <td>2019-04-27 00:00:00</td>\n",
       "      <td>A002</td>\n",
       "      <td>R051</td>\n",
       "      <td>02-00-00</td>\n",
       "      <td>59 ST</td>\n",
       "      <td>NQR456W</td>\n",
       "      <td>BMT</td>\n",
       "      <td>REGULAR</td>\n",
       "      <td>7035249</td>\n",
       "      <td>2384833</td>\n",
       "      <td>0.0</td>\n",
       "      <td>0.0</td>\n",
       "    </tr>\n",
       "    <tr>\n",
       "      <th>1</th>\n",
       "      <td>2019-04-27 04:00:00</td>\n",
       "      <td>A002</td>\n",
       "      <td>R051</td>\n",
       "      <td>02-00-00</td>\n",
       "      <td>59 ST</td>\n",
       "      <td>NQR456W</td>\n",
       "      <td>BMT</td>\n",
       "      <td>REGULAR</td>\n",
       "      <td>7035269</td>\n",
       "      <td>2384840</td>\n",
       "      <td>20.0</td>\n",
       "      <td>20.0</td>\n",
       "    </tr>\n",
       "    <tr>\n",
       "      <th>2</th>\n",
       "      <td>2019-04-27 08:00:00</td>\n",
       "      <td>A002</td>\n",
       "      <td>R051</td>\n",
       "      <td>02-00-00</td>\n",
       "      <td>59 ST</td>\n",
       "      <td>NQR456W</td>\n",
       "      <td>BMT</td>\n",
       "      <td>REGULAR</td>\n",
       "      <td>7035292</td>\n",
       "      <td>2384875</td>\n",
       "      <td>23.0</td>\n",
       "      <td>23.0</td>\n",
       "    </tr>\n",
       "    <tr>\n",
       "      <th>3</th>\n",
       "      <td>2019-04-27 12:00:00</td>\n",
       "      <td>A002</td>\n",
       "      <td>R051</td>\n",
       "      <td>02-00-00</td>\n",
       "      <td>59 ST</td>\n",
       "      <td>NQR456W</td>\n",
       "      <td>BMT</td>\n",
       "      <td>REGULAR</td>\n",
       "      <td>7035392</td>\n",
       "      <td>2384951</td>\n",
       "      <td>100.0</td>\n",
       "      <td>100.0</td>\n",
       "    </tr>\n",
       "    <tr>\n",
       "      <th>4</th>\n",
       "      <td>2019-04-27 16:00:00</td>\n",
       "      <td>A002</td>\n",
       "      <td>R051</td>\n",
       "      <td>02-00-00</td>\n",
       "      <td>59 ST</td>\n",
       "      <td>NQR456W</td>\n",
       "      <td>BMT</td>\n",
       "      <td>REGULAR</td>\n",
       "      <td>7035651</td>\n",
       "      <td>2385020</td>\n",
       "      <td>259.0</td>\n",
       "      <td>259.0</td>\n",
       "    </tr>\n",
       "    <tr>\n",
       "      <th>5</th>\n",
       "      <td>2019-04-27 20:00:00</td>\n",
       "      <td>A002</td>\n",
       "      <td>R051</td>\n",
       "      <td>02-00-00</td>\n",
       "      <td>59 ST</td>\n",
       "      <td>NQR456W</td>\n",
       "      <td>BMT</td>\n",
       "      <td>REGULAR</td>\n",
       "      <td>7035930</td>\n",
       "      <td>2385070</td>\n",
       "      <td>279.0</td>\n",
       "      <td>279.0</td>\n",
       "    </tr>\n",
       "    <tr>\n",
       "      <th>6</th>\n",
       "      <td>2019-04-28 00:00:00</td>\n",
       "      <td>A002</td>\n",
       "      <td>R051</td>\n",
       "      <td>02-00-00</td>\n",
       "      <td>59 ST</td>\n",
       "      <td>NQR456W</td>\n",
       "      <td>BMT</td>\n",
       "      <td>REGULAR</td>\n",
       "      <td>7036100</td>\n",
       "      <td>2385087</td>\n",
       "      <td>170.0</td>\n",
       "      <td>170.0</td>\n",
       "    </tr>\n",
       "    <tr>\n",
       "      <th>7</th>\n",
       "      <td>2019-04-28 04:00:00</td>\n",
       "      <td>A002</td>\n",
       "      <td>R051</td>\n",
       "      <td>02-00-00</td>\n",
       "      <td>59 ST</td>\n",
       "      <td>NQR456W</td>\n",
       "      <td>BMT</td>\n",
       "      <td>REGULAR</td>\n",
       "      <td>7036119</td>\n",
       "      <td>2385088</td>\n",
       "      <td>19.0</td>\n",
       "      <td>19.0</td>\n",
       "    </tr>\n",
       "    <tr>\n",
       "      <th>8</th>\n",
       "      <td>2019-04-28 08:00:00</td>\n",
       "      <td>A002</td>\n",
       "      <td>R051</td>\n",
       "      <td>02-00-00</td>\n",
       "      <td>59 ST</td>\n",
       "      <td>NQR456W</td>\n",
       "      <td>BMT</td>\n",
       "      <td>REGULAR</td>\n",
       "      <td>7036125</td>\n",
       "      <td>2385103</td>\n",
       "      <td>6.0</td>\n",
       "      <td>6.0</td>\n",
       "    </tr>\n",
       "    <tr>\n",
       "      <th>9</th>\n",
       "      <td>2019-04-28 12:00:00</td>\n",
       "      <td>A002</td>\n",
       "      <td>R051</td>\n",
       "      <td>02-00-00</td>\n",
       "      <td>59 ST</td>\n",
       "      <td>NQR456W</td>\n",
       "      <td>BMT</td>\n",
       "      <td>REGULAR</td>\n",
       "      <td>7036197</td>\n",
       "      <td>2385155</td>\n",
       "      <td>72.0</td>\n",
       "      <td>72.0</td>\n",
       "    </tr>\n",
       "  </tbody>\n",
       "</table>\n",
       "</div>"
      ],
      "text/plain": [
       "            DATE_TIME    CA  UNIT       SCP STATION LINENAME DIVISION  \\\n",
       "0 2019-04-27 00:00:00  A002  R051  02-00-00   59 ST  NQR456W      BMT   \n",
       "1 2019-04-27 04:00:00  A002  R051  02-00-00   59 ST  NQR456W      BMT   \n",
       "2 2019-04-27 08:00:00  A002  R051  02-00-00   59 ST  NQR456W      BMT   \n",
       "3 2019-04-27 12:00:00  A002  R051  02-00-00   59 ST  NQR456W      BMT   \n",
       "4 2019-04-27 16:00:00  A002  R051  02-00-00   59 ST  NQR456W      BMT   \n",
       "5 2019-04-27 20:00:00  A002  R051  02-00-00   59 ST  NQR456W      BMT   \n",
       "6 2019-04-28 00:00:00  A002  R051  02-00-00   59 ST  NQR456W      BMT   \n",
       "7 2019-04-28 04:00:00  A002  R051  02-00-00   59 ST  NQR456W      BMT   \n",
       "8 2019-04-28 08:00:00  A002  R051  02-00-00   59 ST  NQR456W      BMT   \n",
       "9 2019-04-28 12:00:00  A002  R051  02-00-00   59 ST  NQR456W      BMT   \n",
       "\n",
       "      DESC  ENTRIES    EXITS  HOURLY_ENTRIES  HOURLY_EXITS  \n",
       "0  REGULAR  7035249  2384833             0.0           0.0  \n",
       "1  REGULAR  7035269  2384840            20.0          20.0  \n",
       "2  REGULAR  7035292  2384875            23.0          23.0  \n",
       "3  REGULAR  7035392  2384951           100.0         100.0  \n",
       "4  REGULAR  7035651  2385020           259.0         259.0  \n",
       "5  REGULAR  7035930  2385070           279.0         279.0  \n",
       "6  REGULAR  7036100  2385087           170.0         170.0  \n",
       "7  REGULAR  7036119  2385088            19.0          19.0  \n",
       "8  REGULAR  7036125  2385103             6.0           6.0  \n",
       "9  REGULAR  7036197  2385155            72.0          72.0  "
      ]
     },
     "execution_count": 9,
     "metadata": {},
     "output_type": "execute_result"
    }
   ],
   "source": [
    "df.head(10) # here it's still every 4H segments"
   ]
  },
  {
   "cell_type": "code",
   "execution_count": 10,
   "metadata": {},
   "outputs": [],
   "source": [
    "# Got the sum (flow of traffic)\n",
    "HOURLY_SUM  = df.HOURLY_ENTRIES + df.HOURLY_EXITS\n",
    "df['HOURLY_SUM'] = HOURLY_SUM"
   ]
  },
  {
   "cell_type": "code",
   "execution_count": 11,
   "metadata": {},
   "outputs": [],
   "source": [
    "df['MONTH'] = df['DATE_TIME'].dt.month\n"
   ]
  },
  {
   "cell_type": "code",
   "execution_count": 12,
   "metadata": {},
   "outputs": [],
   "source": [
    "# Take care of outliers by month\n",
    "df['HOURLY_ENTRIES'] = df.groupby(['SCP','MONTH']).HOURLY_ENTRIES.transform(lambda x: np.where((x<0)|(x>20000),x.mask((x<0)|(x>20000)).mean(),x))"
   ]
  },
  {
   "cell_type": "code",
   "execution_count": 13,
   "metadata": {},
   "outputs": [],
   "source": [
    "df['HOURLY_EXITS'] = df.groupby(['SCP','MONTH']).HOURLY_EXITS.transform(lambda x: np.where((x<0)|(x>20000),x.mask((x<0)|(x>20000)).mean(),x))\n"
   ]
  },
  {
   "cell_type": "code",
   "execution_count": 14,
   "metadata": {},
   "outputs": [],
   "source": [
    "df['HOURLY_SUM'] = df.HOURLY_ENTRIES + df.HOURLY_EXITS"
   ]
  },
  {
   "cell_type": "code",
   "execution_count": 15,
   "metadata": {},
   "outputs": [],
   "source": [
    "df = df.set_index('DATE_TIME')"
   ]
  },
  {
   "cell_type": "code",
   "execution_count": 16,
   "metadata": {},
   "outputs": [
    {
     "data": {
      "text/plain": [
       "DATE_TIME\n",
       "2019-04-27    4.487495e+06\n",
       "2019-04-28    2.720036e+06\n",
       "2019-04-29    5.720414e+06\n",
       "2019-04-30    5.975946e+06\n",
       "2019-05-01    6.125428e+06\n",
       "2019-05-02    6.163790e+06\n",
       "2019-05-03    5.990800e+06\n",
       "2019-05-04    4.472508e+06\n",
       "2019-05-05    2.635026e+06\n",
       "2019-05-06    5.754476e+06\n",
       "Freq: D, Name: HOURLY_ENTRIES, dtype: float64"
      ]
     },
     "execution_count": 16,
     "metadata": {},
     "output_type": "execute_result"
    }
   ],
   "source": [
    "df['HOURLY_ENTRIES'].resample('D').sum().head(10)"
   ]
  },
  {
   "cell_type": "code",
   "execution_count": 17,
   "metadata": {},
   "outputs": [],
   "source": [
    "gb_unit = df.groupby('UNIT')"
   ]
  },
  {
   "cell_type": "code",
   "execution_count": 18,
   "metadata": {},
   "outputs": [
    {
     "data": {
      "text/plain": [
       "<pandas.core.groupby.generic.DataFrameGroupBy object at 0x1a23835630>"
      ]
     },
     "execution_count": 18,
     "metadata": {},
     "output_type": "execute_result"
    }
   ],
   "source": [
    "gb_unit # gb here is just a gb object, can't do much"
   ]
  },
  {
   "cell_type": "code",
   "execution_count": 19,
   "metadata": {},
   "outputs": [],
   "source": [
    "# send gb to a variable so we can use as df, also need to chain on resample / count\n",
    "daily_counts = gb_unit['HOURLY_ENTRIES'].resample('D').sum()"
   ]
  },
  {
   "cell_type": "code",
   "execution_count": 20,
   "metadata": {},
   "outputs": [
    {
     "data": {
      "text/plain": [
       "UNIT  DATE_TIME \n",
       "R001  2019-04-27    39327.544079\n",
       "      2019-04-28    11060.000000\n",
       "      2019-04-29    35937.000000\n",
       "      2019-04-30    34814.000000\n",
       "      2019-05-01    35050.000000\n",
       "      2019-05-02    36924.000000\n",
       "      2019-05-03    34357.000000\n",
       "      2019-05-04    39869.546860\n",
       "      2019-05-05    11202.000000\n",
       "      2019-05-06    36934.000000\n",
       "Name: HOURLY_ENTRIES, dtype: float64"
      ]
     },
     "execution_count": 20,
     "metadata": {},
     "output_type": "execute_result"
    }
   ],
   "source": [
    "daily_counts.head(10)"
   ]
  },
  {
   "cell_type": "markdown",
   "metadata": {},
   "source": [
    "## #4 -- plot a single unit across the dataset, entries per DAY"
   ]
  },
  {
   "cell_type": "code",
   "execution_count": 21,
   "metadata": {},
   "outputs": [
    {
     "data": {
      "text/plain": [
       "count       28.000000\n",
       "mean     27196.355993\n",
       "std       6757.881270\n",
       "min      13889.700514\n",
       "25%      19668.333785\n",
       "50%      31141.558680\n",
       "75%      32195.200514\n",
       "max      33561.700514\n",
       "Name: HOURLY_ENTRIES, dtype: float64"
      ]
     },
     "execution_count": 21,
     "metadata": {},
     "output_type": "execute_result"
    }
   ],
   "source": [
    "daily_counts['R051'].describe()"
   ]
  },
  {
   "cell_type": "code",
   "execution_count": 22,
   "metadata": {},
   "outputs": [
    {
     "data": {
      "text/plain": [
       "<matplotlib.axes._subplots.AxesSubplot at 0x1a238f57b8>"
      ]
     },
     "execution_count": 22,
     "metadata": {},
     "output_type": "execute_result"
    },
    {
     "data": {
      "image/png": "[encoded data removed]",
      "text/plain": [
       "<Figure size 432x288 with 1 Axes>"
      ]
     },
     "metadata": {
      "needs_background": "light"
     },
     "output_type": "display_data"
    }
   ],
   "source": [
    "daily_counts['R051'].plot()"
   ]
  },
  {
   "cell_type": "markdown",
   "metadata": {},
   "source": [
    "### 5 - Get Count for each SCP values"
   ]
  },
  {
   "cell_type": "code",
   "execution_count": 23,
   "metadata": {},
   "outputs": [
    {
     "data": {
      "text/html": [
       "<div>\n",
       "<style scoped>\n",
       "    .dataframe tbody tr th:only-of-type {\n",
       "        vertical-align: middle;\n",
       "    }\n",
       "\n",
       "    .dataframe tbody tr th {\n",
       "        vertical-align: top;\n",
       "    }\n",
       "\n",
       "    .dataframe thead th {\n",
       "        text-align: right;\n",
       "    }\n",
       "</style>\n",
       "<table border=\"1\" class=\"dataframe\">\n",
       "  <thead>\n",
       "    <tr style=\"text-align: right;\">\n",
       "      <th></th>\n",
       "      <th>CA</th>\n",
       "      <th>UNIT</th>\n",
       "      <th>SCP</th>\n",
       "      <th>STATION</th>\n",
       "      <th>LINENAME</th>\n",
       "      <th>DIVISION</th>\n",
       "      <th>DESC</th>\n",
       "      <th>ENTRIES</th>\n",
       "      <th>EXITS</th>\n",
       "      <th>HOURLY_ENTRIES</th>\n",
       "      <th>HOURLY_EXITS</th>\n",
       "      <th>HOURLY_SUM</th>\n",
       "      <th>MONTH</th>\n",
       "    </tr>\n",
       "    <tr>\n",
       "      <th>DATE_TIME</th>\n",
       "      <th></th>\n",
       "      <th></th>\n",
       "      <th></th>\n",
       "      <th></th>\n",
       "      <th></th>\n",
       "      <th></th>\n",
       "      <th></th>\n",
       "      <th></th>\n",
       "      <th></th>\n",
       "      <th></th>\n",
       "      <th></th>\n",
       "      <th></th>\n",
       "      <th></th>\n",
       "    </tr>\n",
       "  </thead>\n",
       "  <tbody>\n",
       "    <tr>\n",
       "      <th>2019-04-27 00:00:00</th>\n",
       "      <td>A002</td>\n",
       "      <td>R051</td>\n",
       "      <td>02-00-00</td>\n",
       "      <td>59 ST</td>\n",
       "      <td>NQR456W</td>\n",
       "      <td>BMT</td>\n",
       "      <td>REGULAR</td>\n",
       "      <td>7035249</td>\n",
       "      <td>2384833</td>\n",
       "      <td>0.0</td>\n",
       "      <td>0.0</td>\n",
       "      <td>0.0</td>\n",
       "      <td>4</td>\n",
       "    </tr>\n",
       "    <tr>\n",
       "      <th>2019-04-27 04:00:00</th>\n",
       "      <td>A002</td>\n",
       "      <td>R051</td>\n",
       "      <td>02-00-00</td>\n",
       "      <td>59 ST</td>\n",
       "      <td>NQR456W</td>\n",
       "      <td>BMT</td>\n",
       "      <td>REGULAR</td>\n",
       "      <td>7035269</td>\n",
       "      <td>2384840</td>\n",
       "      <td>20.0</td>\n",
       "      <td>20.0</td>\n",
       "      <td>40.0</td>\n",
       "      <td>4</td>\n",
       "    </tr>\n",
       "    <tr>\n",
       "      <th>2019-04-27 08:00:00</th>\n",
       "      <td>A002</td>\n",
       "      <td>R051</td>\n",
       "      <td>02-00-00</td>\n",
       "      <td>59 ST</td>\n",
       "      <td>NQR456W</td>\n",
       "      <td>BMT</td>\n",
       "      <td>REGULAR</td>\n",
       "      <td>7035292</td>\n",
       "      <td>2384875</td>\n",
       "      <td>23.0</td>\n",
       "      <td>23.0</td>\n",
       "      <td>46.0</td>\n",
       "      <td>4</td>\n",
       "    </tr>\n",
       "    <tr>\n",
       "      <th>2019-04-27 12:00:00</th>\n",
       "      <td>A002</td>\n",
       "      <td>R051</td>\n",
       "      <td>02-00-00</td>\n",
       "      <td>59 ST</td>\n",
       "      <td>NQR456W</td>\n",
       "      <td>BMT</td>\n",
       "      <td>REGULAR</td>\n",
       "      <td>7035392</td>\n",
       "      <td>2384951</td>\n",
       "      <td>100.0</td>\n",
       "      <td>100.0</td>\n",
       "      <td>200.0</td>\n",
       "      <td>4</td>\n",
       "    </tr>\n",
       "    <tr>\n",
       "      <th>2019-04-27 16:00:00</th>\n",
       "      <td>A002</td>\n",
       "      <td>R051</td>\n",
       "      <td>02-00-00</td>\n",
       "      <td>59 ST</td>\n",
       "      <td>NQR456W</td>\n",
       "      <td>BMT</td>\n",
       "      <td>REGULAR</td>\n",
       "      <td>7035651</td>\n",
       "      <td>2385020</td>\n",
       "      <td>259.0</td>\n",
       "      <td>259.0</td>\n",
       "      <td>518.0</td>\n",
       "      <td>4</td>\n",
       "    </tr>\n",
       "  </tbody>\n",
       "</table>\n",
       "</div>"
      ],
      "text/plain": [
       "                       CA  UNIT       SCP STATION LINENAME DIVISION     DESC  \\\n",
       "DATE_TIME                                                                      \n",
       "2019-04-27 00:00:00  A002  R051  02-00-00   59 ST  NQR456W      BMT  REGULAR   \n",
       "2019-04-27 04:00:00  A002  R051  02-00-00   59 ST  NQR456W      BMT  REGULAR   \n",
       "2019-04-27 08:00:00  A002  R051  02-00-00   59 ST  NQR456W      BMT  REGULAR   \n",
       "2019-04-27 12:00:00  A002  R051  02-00-00   59 ST  NQR456W      BMT  REGULAR   \n",
       "2019-04-27 16:00:00  A002  R051  02-00-00   59 ST  NQR456W      BMT  REGULAR   \n",
       "\n",
       "                     ENTRIES    EXITS  HOURLY_ENTRIES  HOURLY_EXITS  \\\n",
       "DATE_TIME                                                             \n",
       "2019-04-27 00:00:00  7035249  2384833             0.0           0.0   \n",
       "2019-04-27 04:00:00  7035269  2384840            20.0          20.0   \n",
       "2019-04-27 08:00:00  7035292  2384875            23.0          23.0   \n",
       "2019-04-27 12:00:00  7035392  2384951           100.0         100.0   \n",
       "2019-04-27 16:00:00  7035651  2385020           259.0         259.0   \n",
       "\n",
       "                     HOURLY_SUM  MONTH  \n",
       "DATE_TIME                               \n",
       "2019-04-27 00:00:00         0.0      4  \n",
       "2019-04-27 04:00:00        40.0      4  \n",
       "2019-04-27 08:00:00        46.0      4  \n",
       "2019-04-27 12:00:00       200.0      4  \n",
       "2019-04-27 16:00:00       518.0      4  "
      ]
     },
     "execution_count": 23,
     "metadata": {},
     "output_type": "execute_result"
    }
   ],
   "source": [
    "df.head()"
   ]
  },
  {
   "cell_type": "code",
   "execution_count": 24,
   "metadata": {},
   "outputs": [
    {
     "name": "stdout",
     "output_type": "stream",
     "text": [
      "CA    UNIT  STATION  DATE_TIME \n",
      "A002  R051  59 ST    2019-04-27     8202.090692\n",
      "                     2019-04-28     6768.000000\n",
      "                     2019-04-29    12441.000000\n",
      "                     2019-04-30    13328.000000\n",
      "                     2019-05-01    13939.000000\n",
      "                     2019-05-02    13881.000000\n",
      "                     2019-05-03    13624.000000\n",
      "                     2019-05-04     8200.289887\n",
      "                     2019-05-05     6566.000000\n",
      "                     2019-05-06    12318.000000\n",
      "Name: HOURLY_ENTRIES, dtype: float64\n"
     ]
    }
   ],
   "source": [
    "print(df.groupby([\"CA\", \"UNIT\",\"STATION\"])[\"HOURLY_ENTRIES\"].resample('D').sum().head(10))"
   ]
  },
  {
   "cell_type": "code",
   "execution_count": null,
   "metadata": {},
   "outputs": [],
   "source": []
  },
  {
   "cell_type": "markdown",
   "metadata": {},
   "source": [
    "## #6 & 7-- station level"
   ]
  },
  {
   "cell_type": "code",
   "execution_count": 25,
   "metadata": {},
   "outputs": [],
   "source": [
    "gb_station = df.groupby('STATION')"
   ]
  },
  {
   "cell_type": "code",
   "execution_count": 27,
   "metadata": {},
   "outputs": [],
   "source": [
    "daily_counts_by_station = gb_station['HOURLY_ENTRIES'].resample('D').sum()"
   ]
  },
  {
   "cell_type": "code",
   "execution_count": 28,
   "metadata": {},
   "outputs": [
    {
     "data": {
      "text/plain": [
       "<matplotlib.axes._subplots.AxesSubplot at 0x1a22db6048>"
      ]
     },
     "execution_count": 28,
     "metadata": {},
     "output_type": "execute_result"
    },
    {
     "data": {
      "image/png": "[encoded data removed]",
      "text/plain": [
       "<Figure size 432x288 with 1 Axes>"
      ]
     },
     "metadata": {
      "needs_background": "light"
     },
     "output_type": "display_data"
    }
   ],
   "source": [
    "daily_counts_by_station['23 ST'].plot()"
   ]
  },
  {
   "cell_type": "markdown",
   "metadata": {},
   "source": [
    "## #8 Station by weeks"
   ]
  },
  {
   "cell_type": "code",
   "execution_count": 29,
   "metadata": {},
   "outputs": [],
   "source": [
    "daily_counts_by_station = gb_station['HOURLY_ENTRIES'].resample('D').sum()"
   ]
  },
  {
   "cell_type": "code",
   "execution_count": 30,
   "metadata": {},
   "outputs": [],
   "source": [
    "resample_by_week = gb_station['HOURLY_ENTRIES'].resample('W').sum()"
   ]
  },
  {
   "cell_type": "code",
   "execution_count": 31,
   "metadata": {},
   "outputs": [
    {
     "data": {
      "text/plain": [
       "DATE_TIME\n",
       "2019-04-28     11640.926383\n",
       "2019-05-05    106722.517972\n",
       "2019-05-12    106210.517972\n",
       "2019-05-19    107676.517972\n",
       "2019-05-26     95316.000000\n",
       "Name: HOURLY_ENTRIES, dtype: float64"
      ]
     },
     "execution_count": 31,
     "metadata": {},
     "output_type": "execute_result"
    }
   ],
   "source": [
    "# GET THE WEEKLY SUM FOR ONE STATION\n",
    "resample_by_week['1 AV']"
   ]
  },
  {
   "cell_type": "code",
   "execution_count": 32,
   "metadata": {},
   "outputs": [],
   "source": [
    "week1 = daily_counts_by_station['1 AV']['2019-04-29': '2019-05-05']\n",
    "week2 = daily_counts_by_station['1 AV']['2019-05-06': '2019-05-12']\n",
    "week3 = daily_counts_by_station['1 AV']['2019-05-13': '2019-05-19']\n",
    "week4 = daily_counts_by_station['1 AV']['2019-05-20': '2019-05-26']"
   ]
  },
  {
   "cell_type": "code",
   "execution_count": 33,
   "metadata": {},
   "outputs": [
    {
     "data": {
      "text/plain": [
       "DATE_TIME\n",
       "2019-04-29    17134.000000\n",
       "2019-04-30    18588.000000\n",
       "2019-05-01    19221.000000\n",
       "2019-05-02    19406.000000\n",
       "2019-05-03    19732.000000\n",
       "2019-05-04     6894.517972\n",
       "2019-05-05     5747.000000\n",
       "Name: HOURLY_ENTRIES, dtype: float64"
      ]
     },
     "execution_count": 33,
     "metadata": {},
     "output_type": "execute_result"
    }
   ],
   "source": [
    "week1[:]"
   ]
  },
  {
   "cell_type": "code",
   "execution_count": 34,
   "metadata": {},
   "outputs": [],
   "source": [
    "list_week1 = list(week1)\n",
    "list_week2 = list(week2)\n",
    "list_week3 = list(week3)\n",
    "list_week4 = list(week4)"
   ]
  },
  {
   "cell_type": "code",
   "execution_count": 35,
   "metadata": {},
   "outputs": [
    {
     "data": {
      "text/plain": [
       "[17134.0, 18588.0, 19221.0, 19406.0, 19732.0, 6894.517971785137, 5747.0]"
      ]
     },
     "execution_count": 35,
     "metadata": {},
     "output_type": "execute_result"
    }
   ],
   "source": [
    "list_week1"
   ]
  },
  {
   "cell_type": "code",
   "execution_count": 36,
   "metadata": {},
   "outputs": [
    {
     "data": {
      "image/png": "[encoded data removed]",
      "text/plain": [
       "<Figure size 432x288 with 1 Axes>"
      ]
     },
     "metadata": {
      "needs_background": "light"
     },
     "output_type": "display_data"
    }
   ],
   "source": [
    "plt.plot(list_week1, label='Week 1')\n",
    "plt.plot(list_week2, label='Week 2')\n",
    "plt.plot(list_week3, label='Week 3')\n",
    "plt.plot(list_week4, label='Week 4')\n",
    "\n",
    "\n",
    "x_ticks = range(0,7) # Do I need to specify # of ticks, then rename?\n",
    "days_list = ['Mon','Tue','Wed','Thu','Fri', 'Sat', 'Sun']\n",
    "plt.title('4 week sample of daily entries at 1 AV station')\n",
    "plt.xticks(x_ticks, days_list)\n",
    "plt.legend();"
   ]
  },
  {
   "cell_type": "markdown",
   "metadata": {},
   "source": [
    "### 9 and 10 Over multiple weeks, sum total ridership for each station and sort them, so you can find out the stations with the highest traffic during the time you investigate"
   ]
  },
  {
   "cell_type": "code",
   "execution_count": 37,
   "metadata": {},
   "outputs": [
    {
     "data": {
      "text/html": [
       "<div>\n",
       "<style scoped>\n",
       "    .dataframe tbody tr th:only-of-type {\n",
       "        vertical-align: middle;\n",
       "    }\n",
       "\n",
       "    .dataframe tbody tr th {\n",
       "        vertical-align: top;\n",
       "    }\n",
       "\n",
       "    .dataframe thead th {\n",
       "        text-align: right;\n",
       "    }\n",
       "</style>\n",
       "<table border=\"1\" class=\"dataframe\">\n",
       "  <thead>\n",
       "    <tr style=\"text-align: right;\">\n",
       "      <th></th>\n",
       "      <th>CA</th>\n",
       "      <th>UNIT</th>\n",
       "      <th>SCP</th>\n",
       "      <th>STATION</th>\n",
       "      <th>LINENAME</th>\n",
       "      <th>DIVISION</th>\n",
       "      <th>DESC</th>\n",
       "      <th>ENTRIES</th>\n",
       "      <th>EXITS</th>\n",
       "      <th>HOURLY_ENTRIES</th>\n",
       "      <th>HOURLY_EXITS</th>\n",
       "      <th>HOURLY_SUM</th>\n",
       "      <th>MONTH</th>\n",
       "    </tr>\n",
       "    <tr>\n",
       "      <th>DATE_TIME</th>\n",
       "      <th></th>\n",
       "      <th></th>\n",
       "      <th></th>\n",
       "      <th></th>\n",
       "      <th></th>\n",
       "      <th></th>\n",
       "      <th></th>\n",
       "      <th></th>\n",
       "      <th></th>\n",
       "      <th></th>\n",
       "      <th></th>\n",
       "      <th></th>\n",
       "      <th></th>\n",
       "    </tr>\n",
       "  </thead>\n",
       "  <tbody>\n",
       "    <tr>\n",
       "      <th>2019-04-27 00:00:00</th>\n",
       "      <td>A002</td>\n",
       "      <td>R051</td>\n",
       "      <td>02-00-00</td>\n",
       "      <td>59 ST</td>\n",
       "      <td>NQR456W</td>\n",
       "      <td>BMT</td>\n",
       "      <td>REGULAR</td>\n",
       "      <td>7035249</td>\n",
       "      <td>2384833</td>\n",
       "      <td>0.0</td>\n",
       "      <td>0.0</td>\n",
       "      <td>0.0</td>\n",
       "      <td>4</td>\n",
       "    </tr>\n",
       "    <tr>\n",
       "      <th>2019-04-27 04:00:00</th>\n",
       "      <td>A002</td>\n",
       "      <td>R051</td>\n",
       "      <td>02-00-00</td>\n",
       "      <td>59 ST</td>\n",
       "      <td>NQR456W</td>\n",
       "      <td>BMT</td>\n",
       "      <td>REGULAR</td>\n",
       "      <td>7035269</td>\n",
       "      <td>2384840</td>\n",
       "      <td>20.0</td>\n",
       "      <td>20.0</td>\n",
       "      <td>40.0</td>\n",
       "      <td>4</td>\n",
       "    </tr>\n",
       "    <tr>\n",
       "      <th>2019-04-27 08:00:00</th>\n",
       "      <td>A002</td>\n",
       "      <td>R051</td>\n",
       "      <td>02-00-00</td>\n",
       "      <td>59 ST</td>\n",
       "      <td>NQR456W</td>\n",
       "      <td>BMT</td>\n",
       "      <td>REGULAR</td>\n",
       "      <td>7035292</td>\n",
       "      <td>2384875</td>\n",
       "      <td>23.0</td>\n",
       "      <td>23.0</td>\n",
       "      <td>46.0</td>\n",
       "      <td>4</td>\n",
       "    </tr>\n",
       "    <tr>\n",
       "      <th>2019-04-27 12:00:00</th>\n",
       "      <td>A002</td>\n",
       "      <td>R051</td>\n",
       "      <td>02-00-00</td>\n",
       "      <td>59 ST</td>\n",
       "      <td>NQR456W</td>\n",
       "      <td>BMT</td>\n",
       "      <td>REGULAR</td>\n",
       "      <td>7035392</td>\n",
       "      <td>2384951</td>\n",
       "      <td>100.0</td>\n",
       "      <td>100.0</td>\n",
       "      <td>200.0</td>\n",
       "      <td>4</td>\n",
       "    </tr>\n",
       "    <tr>\n",
       "      <th>2019-04-27 16:00:00</th>\n",
       "      <td>A002</td>\n",
       "      <td>R051</td>\n",
       "      <td>02-00-00</td>\n",
       "      <td>59 ST</td>\n",
       "      <td>NQR456W</td>\n",
       "      <td>BMT</td>\n",
       "      <td>REGULAR</td>\n",
       "      <td>7035651</td>\n",
       "      <td>2385020</td>\n",
       "      <td>259.0</td>\n",
       "      <td>259.0</td>\n",
       "      <td>518.0</td>\n",
       "      <td>4</td>\n",
       "    </tr>\n",
       "  </tbody>\n",
       "</table>\n",
       "</div>"
      ],
      "text/plain": [
       "                       CA  UNIT       SCP STATION LINENAME DIVISION     DESC  \\\n",
       "DATE_TIME                                                                      \n",
       "2019-04-27 00:00:00  A002  R051  02-00-00   59 ST  NQR456W      BMT  REGULAR   \n",
       "2019-04-27 04:00:00  A002  R051  02-00-00   59 ST  NQR456W      BMT  REGULAR   \n",
       "2019-04-27 08:00:00  A002  R051  02-00-00   59 ST  NQR456W      BMT  REGULAR   \n",
       "2019-04-27 12:00:00  A002  R051  02-00-00   59 ST  NQR456W      BMT  REGULAR   \n",
       "2019-04-27 16:00:00  A002  R051  02-00-00   59 ST  NQR456W      BMT  REGULAR   \n",
       "\n",
       "                     ENTRIES    EXITS  HOURLY_ENTRIES  HOURLY_EXITS  \\\n",
       "DATE_TIME                                                             \n",
       "2019-04-27 00:00:00  7035249  2384833             0.0           0.0   \n",
       "2019-04-27 04:00:00  7035269  2384840            20.0          20.0   \n",
       "2019-04-27 08:00:00  7035292  2384875            23.0          23.0   \n",
       "2019-04-27 12:00:00  7035392  2384951           100.0         100.0   \n",
       "2019-04-27 16:00:00  7035651  2385020           259.0         259.0   \n",
       "\n",
       "                     HOURLY_SUM  MONTH  \n",
       "DATE_TIME                               \n",
       "2019-04-27 00:00:00         0.0      4  \n",
       "2019-04-27 04:00:00        40.0      4  \n",
       "2019-04-27 08:00:00        46.0      4  \n",
       "2019-04-27 12:00:00       200.0      4  \n",
       "2019-04-27 16:00:00       518.0      4  "
      ]
     },
     "execution_count": 37,
     "metadata": {},
     "output_type": "execute_result"
    }
   ],
   "source": [
    "df.head()"
   ]
  },
  {
   "cell_type": "code",
   "execution_count": 38,
   "metadata": {},
   "outputs": [],
   "source": [
    "total_ridership_counts = df.groupby([\"STATION\"])[\"HOURLY_ENTRIES\"].sum().sort_values(ascending=False)"
   ]
  },
  {
   "cell_type": "code",
   "execution_count": 39,
   "metadata": {},
   "outputs": [],
   "source": [
    "data = list(total_ridership_counts)"
   ]
  },
  {
   "cell_type": "code",
   "execution_count": 40,
   "metadata": {},
   "outputs": [
    {
     "data": {
      "text/plain": [
       "(array([92., 99., 45., 43., 28., 17., 11.,  8.,  6.,  4.,  3.,  3.,  1.,\n",
       "         3.,  1.,  2.,  0.,  2.,  1.,  0.,  0.,  1.,  2.,  1.,  0.,  1.,\n",
       "         1.,  1.,  0.,  0.,  0.,  0.,  0.,  1.,  0.,  0.,  0.,  0.,  0.,\n",
       "         1.]), array([   7956.35294817,  115431.07185067,  222905.79075316,\n",
       "         330380.50965565,  437855.22855814,  545329.94746063,\n",
       "         652804.66636313,  760279.38526562,  867754.10416811,\n",
       "         975228.8230706 , 1082703.54197309, 1190178.26087559,\n",
       "        1297652.97977808, 1405127.69868057, 1512602.41758306,\n",
       "        1620077.13648555, 1727551.85538805, 1835026.57429054,\n",
       "        1942501.29319303, 2049976.01209552, 2157450.73099801,\n",
       "        2264925.44990051, 2372400.168803  , 2479874.88770549,\n",
       "        2587349.60660798, 2694824.32551047, 2802299.04441296,\n",
       "        2909773.76331546, 3017248.48221795, 3124723.20112044,\n",
       "        3232197.92002293, 3339672.63892542, 3447147.35782792,\n",
       "        3554622.07673041, 3662096.7956329 , 3769571.51453539,\n",
       "        3877046.23343788, 3984520.95234038, 4091995.67124287,\n",
       "        4199470.39014536, 4306945.10904785]), <a list of 40 Patch objects>)"
      ]
     },
     "execution_count": 40,
     "metadata": {},
     "output_type": "execute_result"
    },
    {
     "data": {
      "image/png": "[encoded data removed]",
      "text/plain": [
       "<Figure size 432x288 with 1 Axes>"
      ]
     },
     "metadata": {
      "needs_background": "light"
     },
     "output_type": "display_data"
    }
   ],
   "source": [
    "plt.hist(total_ridership_counts, bins=40)"
   ]
  }
 ],
 "metadata": {
  "kernelspec": {
   "display_name": "Python 3",
   "language": "python",
   "name": "python3"
  },
  "language_info": {
   "codemirror_mode": {
    "name": "ipython",
    "version": 3
   },
   "file_extension": ".py",
   "mimetype": "text/x-python",
   "name": "python",
   "nbconvert_exporter": "python",
   "pygments_lexer": "ipython3",
   "version": "3.7.3"
  }
 },
 "nbformat": 4,
 "nbformat_minor": 4
}
